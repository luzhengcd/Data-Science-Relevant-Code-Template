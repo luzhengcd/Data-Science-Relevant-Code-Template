{
 "cells": [
  {
   "cell_type": "code",
   "execution_count": 5,
   "metadata": {
    "collapsed": true
   },
   "outputs": [],
   "source": [
    "import pandas as pd\n",
    "import numpy as np\n",
    "import matplotlib.pyplot as plt\n",
    "import seaborn as sns\n",
    "from sklearn import linear_model\n",
    "from copy import deepcopy\n",
    "%matplotlib inline"
   ]
  },
  {
   "cell_type": "code",
   "execution_count": 6,
   "metadata": {
    "scrolled": false
   },
   "outputs": [
    {
     "data": {
      "text/html": [
       "<div>\n",
       "<style scoped>\n",
       "    .dataframe tbody tr th:only-of-type {\n",
       "        vertical-align: middle;\n",
       "    }\n",
       "\n",
       "    .dataframe tbody tr th {\n",
       "        vertical-align: top;\n",
       "    }\n",
       "\n",
       "    .dataframe thead th {\n",
       "        text-align: right;\n",
       "    }\n",
       "</style>\n",
       "<table border=\"1\" class=\"dataframe\">\n",
       "  <thead>\n",
       "    <tr style=\"text-align: right;\">\n",
       "      <th></th>\n",
       "      <th>physician_id</th>\n",
       "      <th>physician_efficiency</th>\n",
       "      <th>metro_area</th>\n",
       "      <th>physician_working_specialty</th>\n",
       "      <th>physician_gender</th>\n",
       "      <th>physician_credential</th>\n",
       "      <th>physician_med_school</th>\n",
       "      <th>physician_graduation_year</th>\n",
       "      <th>bump_feature</th>\n",
       "      <th>engineered_feature_1</th>\n",
       "      <th>engineered_feature_2</th>\n",
       "      <th>engineered_feature_3</th>\n",
       "      <th>medicare_engineered_1</th>\n",
       "      <th>medicare_engineered_2</th>\n",
       "      <th>medicare_engineered_3</th>\n",
       "      <th>medicare_enginerred_4</th>\n",
       "      <th>medicare_engineered_5</th>\n",
       "      <th>medicare_engineered_6</th>\n",
       "      <th>num_medicare_patients</th>\n",
       "      <th>medicare_patient_hcc_risk_score</th>\n",
       "    </tr>\n",
       "  </thead>\n",
       "  <tbody>\n",
       "    <tr>\n",
       "      <th>0</th>\n",
       "      <td>2</td>\n",
       "      <td>0.92</td>\n",
       "      <td>Chicago</td>\n",
       "      <td>Radiology</td>\n",
       "      <td>M</td>\n",
       "      <td>UNKNOWN</td>\n",
       "      <td>BOSTON UNIVERSITY SCHOOL OF MEDICINE</td>\n",
       "      <td>1995.0</td>\n",
       "      <td>3228</td>\n",
       "      <td>1.132</td>\n",
       "      <td>1.154</td>\n",
       "      <td>7.7</td>\n",
       "      <td>2.50</td>\n",
       "      <td>3</td>\n",
       "      <td>0</td>\n",
       "      <td>2</td>\n",
       "      <td>0</td>\n",
       "      <td>3</td>\n",
       "      <td>1482</td>\n",
       "      <td>2.055</td>\n",
       "    </tr>\n",
       "    <tr>\n",
       "      <th>1</th>\n",
       "      <td>3</td>\n",
       "      <td>0.72</td>\n",
       "      <td>Chicago</td>\n",
       "      <td>Urology</td>\n",
       "      <td>M</td>\n",
       "      <td>MD</td>\n",
       "      <td>LOYOLA UNIVERSITY OF CHICAGO, STRITCH SCHOOL O...</td>\n",
       "      <td>1976.0</td>\n",
       "      <td>1077</td>\n",
       "      <td>1.756</td>\n",
       "      <td>1.736</td>\n",
       "      <td>13.1</td>\n",
       "      <td>4.00</td>\n",
       "      <td>4</td>\n",
       "      <td>4</td>\n",
       "      <td>5</td>\n",
       "      <td>3</td>\n",
       "      <td>4</td>\n",
       "      <td>522</td>\n",
       "      <td>1.398</td>\n",
       "    </tr>\n",
       "    <tr>\n",
       "      <th>2</th>\n",
       "      <td>4</td>\n",
       "      <td>1.08</td>\n",
       "      <td>Dallas</td>\n",
       "      <td>Family Practice</td>\n",
       "      <td>F</td>\n",
       "      <td>MD</td>\n",
       "      <td>UNIVERSITY OF TEXAS MEDICAL BRANCH AT GALVESTON</td>\n",
       "      <td>2001.0</td>\n",
       "      <td>6034</td>\n",
       "      <td>1.093</td>\n",
       "      <td>1.086</td>\n",
       "      <td>12.9</td>\n",
       "      <td>2.50</td>\n",
       "      <td>3</td>\n",
       "      <td>3</td>\n",
       "      <td>3</td>\n",
       "      <td>3</td>\n",
       "      <td>1</td>\n",
       "      <td>87</td>\n",
       "      <td>0.800</td>\n",
       "    </tr>\n",
       "    <tr>\n",
       "      <th>3</th>\n",
       "      <td>5</td>\n",
       "      <td>0.97</td>\n",
       "      <td>Dallas</td>\n",
       "      <td>Facial Surgery and Otolaryngology</td>\n",
       "      <td>M</td>\n",
       "      <td>MD</td>\n",
       "      <td>BAYLOR COLLEGE OF MEDICINE</td>\n",
       "      <td>1991.0</td>\n",
       "      <td>4098</td>\n",
       "      <td>1.231</td>\n",
       "      <td>1.231</td>\n",
       "      <td>14.2</td>\n",
       "      <td>2.25</td>\n",
       "      <td>2</td>\n",
       "      <td>2</td>\n",
       "      <td>5</td>\n",
       "      <td>1</td>\n",
       "      <td>1</td>\n",
       "      <td>330</td>\n",
       "      <td>1.014</td>\n",
       "    </tr>\n",
       "    <tr>\n",
       "      <th>4</th>\n",
       "      <td>6</td>\n",
       "      <td>1.00</td>\n",
       "      <td>Dallas</td>\n",
       "      <td>OB/GYN</td>\n",
       "      <td>F</td>\n",
       "      <td>UNKNOWN</td>\n",
       "      <td>UNIVERSITY OF TEXAS MEDICAL SCHOOL AT SAN ANTONIO</td>\n",
       "      <td>1999.0</td>\n",
       "      <td>4652</td>\n",
       "      <td>1.056</td>\n",
       "      <td>1.056</td>\n",
       "      <td>8.5</td>\n",
       "      <td>4.00</td>\n",
       "      <td>4</td>\n",
       "      <td>5</td>\n",
       "      <td>4</td>\n",
       "      <td>2</td>\n",
       "      <td>5</td>\n",
       "      <td>30</td>\n",
       "      <td>0.806</td>\n",
       "    </tr>\n",
       "  </tbody>\n",
       "</table>\n",
       "</div>"
      ],
      "text/plain": [
       "   physician_id  physician_efficiency metro_area  \\\n",
       "0             2                  0.92    Chicago   \n",
       "1             3                  0.72    Chicago   \n",
       "2             4                  1.08     Dallas   \n",
       "3             5                  0.97     Dallas   \n",
       "4             6                  1.00     Dallas   \n",
       "\n",
       "         physician_working_specialty physician_gender physician_credential  \\\n",
       "0                          Radiology                M              UNKNOWN   \n",
       "1                            Urology                M                   MD   \n",
       "2                    Family Practice                F                   MD   \n",
       "3  Facial Surgery and Otolaryngology                M                   MD   \n",
       "4                             OB/GYN                F              UNKNOWN   \n",
       "\n",
       "                                physician_med_school  \\\n",
       "0               BOSTON UNIVERSITY SCHOOL OF MEDICINE   \n",
       "1  LOYOLA UNIVERSITY OF CHICAGO, STRITCH SCHOOL O...   \n",
       "2    UNIVERSITY OF TEXAS MEDICAL BRANCH AT GALVESTON   \n",
       "3                         BAYLOR COLLEGE OF MEDICINE   \n",
       "4  UNIVERSITY OF TEXAS MEDICAL SCHOOL AT SAN ANTONIO   \n",
       "\n",
       "   physician_graduation_year  bump_feature  engineered_feature_1  \\\n",
       "0                     1995.0          3228                 1.132   \n",
       "1                     1976.0          1077                 1.756   \n",
       "2                     2001.0          6034                 1.093   \n",
       "3                     1991.0          4098                 1.231   \n",
       "4                     1999.0          4652                 1.056   \n",
       "\n",
       "   engineered_feature_2  engineered_feature_3  medicare_engineered_1  \\\n",
       "0                 1.154                   7.7                   2.50   \n",
       "1                 1.736                  13.1                   4.00   \n",
       "2                 1.086                  12.9                   2.50   \n",
       "3                 1.231                  14.2                   2.25   \n",
       "4                 1.056                   8.5                   4.00   \n",
       "\n",
       "   medicare_engineered_2  medicare_engineered_3  medicare_enginerred_4  \\\n",
       "0                      3                      0                      2   \n",
       "1                      4                      4                      5   \n",
       "2                      3                      3                      3   \n",
       "3                      2                      2                      5   \n",
       "4                      4                      5                      4   \n",
       "\n",
       "   medicare_engineered_5  medicare_engineered_6  num_medicare_patients  \\\n",
       "0                      0                      3                   1482   \n",
       "1                      3                      4                    522   \n",
       "2                      3                      1                     87   \n",
       "3                      1                      1                    330   \n",
       "4                      2                      5                     30   \n",
       "\n",
       "   medicare_patient_hcc_risk_score  \n",
       "0                            2.055  \n",
       "1                            1.398  \n",
       "2                            0.800  \n",
       "3                            1.014  \n",
       "4                            0.806  "
      ]
     },
     "execution_count": 6,
     "metadata": {},
     "output_type": "execute_result"
    }
   ],
   "source": [
    "data = pd.read_csv('data.csv')\n",
    "# take a look at the data\n",
    "data.head()"
   ]
  },
  {
   "cell_type": "markdown",
   "metadata": {},
   "source": [
    "## Data Quality Check\n",
    "\n",
    "* Basic Descriptive analysis\n",
    "* Check outliers\n",
    "* Check missing value\n"
   ]
  },
  {
   "cell_type": "markdown",
   "metadata": {},
   "source": [
    "### 1. Basic Descriptive analysis"
   ]
  },
  {
   "cell_type": "code",
   "execution_count": 7,
   "metadata": {
    "scrolled": true
   },
   "outputs": [
    {
     "data": {
      "text/html": [
       "<div>\n",
       "<style scoped>\n",
       "    .dataframe tbody tr th:only-of-type {\n",
       "        vertical-align: middle;\n",
       "    }\n",
       "\n",
       "    .dataframe tbody tr th {\n",
       "        vertical-align: top;\n",
       "    }\n",
       "\n",
       "    .dataframe thead th {\n",
       "        text-align: right;\n",
       "    }\n",
       "</style>\n",
       "<table border=\"1\" class=\"dataframe\">\n",
       "  <thead>\n",
       "    <tr style=\"text-align: right;\">\n",
       "      <th></th>\n",
       "      <th>physician_id</th>\n",
       "      <th>physician_efficiency</th>\n",
       "      <th>physician_graduation_year</th>\n",
       "      <th>bump_feature</th>\n",
       "      <th>engineered_feature_1</th>\n",
       "      <th>engineered_feature_2</th>\n",
       "      <th>engineered_feature_3</th>\n",
       "      <th>medicare_engineered_1</th>\n",
       "      <th>medicare_engineered_2</th>\n",
       "      <th>medicare_engineered_3</th>\n",
       "      <th>medicare_enginerred_4</th>\n",
       "      <th>medicare_engineered_5</th>\n",
       "      <th>medicare_engineered_6</th>\n",
       "      <th>num_medicare_patients</th>\n",
       "      <th>medicare_patient_hcc_risk_score</th>\n",
       "    </tr>\n",
       "  </thead>\n",
       "  <tbody>\n",
       "    <tr>\n",
       "      <th>count</th>\n",
       "      <td>7393.000000</td>\n",
       "      <td>7393.000000</td>\n",
       "      <td>6674.000000</td>\n",
       "      <td>7393.000000</td>\n",
       "      <td>7393.000000</td>\n",
       "      <td>7393.000000</td>\n",
       "      <td>7393.000000</td>\n",
       "      <td>7393.000000</td>\n",
       "      <td>7393.000000</td>\n",
       "      <td>7393.000000</td>\n",
       "      <td>7393.000000</td>\n",
       "      <td>7393.000000</td>\n",
       "      <td>7393.000000</td>\n",
       "      <td>7393.000000</td>\n",
       "      <td>7393.000000</td>\n",
       "    </tr>\n",
       "    <tr>\n",
       "      <th>mean</th>\n",
       "      <td>4998.183417</td>\n",
       "      <td>1.056228</td>\n",
       "      <td>1995.449805</td>\n",
       "      <td>4948.712836</td>\n",
       "      <td>1.088763</td>\n",
       "      <td>1.067009</td>\n",
       "      <td>10.071081</td>\n",
       "      <td>2.802573</td>\n",
       "      <td>2.911944</td>\n",
       "      <td>2.647099</td>\n",
       "      <td>2.389287</td>\n",
       "      <td>2.421750</td>\n",
       "      <td>2.792371</td>\n",
       "      <td>495.109022</td>\n",
       "      <td>1.545016</td>\n",
       "    </tr>\n",
       "    <tr>\n",
       "      <th>std</th>\n",
       "      <td>2882.632252</td>\n",
       "      <td>0.355256</td>\n",
       "      <td>170.101170</td>\n",
       "      <td>2917.906257</td>\n",
       "      <td>0.409342</td>\n",
       "      <td>0.249731</td>\n",
       "      <td>4.844017</td>\n",
       "      <td>0.829564</td>\n",
       "      <td>0.884700</td>\n",
       "      <td>1.507928</td>\n",
       "      <td>1.679374</td>\n",
       "      <td>1.607064</td>\n",
       "      <td>1.385428</td>\n",
       "      <td>615.225229</td>\n",
       "      <td>0.794146</td>\n",
       "    </tr>\n",
       "    <tr>\n",
       "      <th>min</th>\n",
       "      <td>2.000000</td>\n",
       "      <td>0.100000</td>\n",
       "      <td>1954.000000</td>\n",
       "      <td>12.000000</td>\n",
       "      <td>0.047000</td>\n",
       "      <td>0.047000</td>\n",
       "      <td>0.300000</td>\n",
       "      <td>1.000000</td>\n",
       "      <td>1.000000</td>\n",
       "      <td>0.000000</td>\n",
       "      <td>0.000000</td>\n",
       "      <td>0.000000</td>\n",
       "      <td>0.000000</td>\n",
       "      <td>0.000000</td>\n",
       "      <td>0.000000</td>\n",
       "    </tr>\n",
       "    <tr>\n",
       "      <th>25%</th>\n",
       "      <td>2495.000000</td>\n",
       "      <td>0.860000</td>\n",
       "      <td>1984.000000</td>\n",
       "      <td>2348.000000</td>\n",
       "      <td>0.920000</td>\n",
       "      <td>0.957000</td>\n",
       "      <td>6.100000</td>\n",
       "      <td>2.250000</td>\n",
       "      <td>2.000000</td>\n",
       "      <td>1.000000</td>\n",
       "      <td>1.000000</td>\n",
       "      <td>1.000000</td>\n",
       "      <td>2.000000</td>\n",
       "      <td>150.000000</td>\n",
       "      <td>1.037000</td>\n",
       "    </tr>\n",
       "    <tr>\n",
       "      <th>50%</th>\n",
       "      <td>5009.000000</td>\n",
       "      <td>1.010000</td>\n",
       "      <td>1993.000000</td>\n",
       "      <td>4943.000000</td>\n",
       "      <td>1.050000</td>\n",
       "      <td>1.054000</td>\n",
       "      <td>10.000000</td>\n",
       "      <td>2.750000</td>\n",
       "      <td>3.000000</td>\n",
       "      <td>3.000000</td>\n",
       "      <td>2.000000</td>\n",
       "      <td>2.000000</td>\n",
       "      <td>3.000000</td>\n",
       "      <td>317.000000</td>\n",
       "      <td>1.354000</td>\n",
       "    </tr>\n",
       "    <tr>\n",
       "      <th>75%</th>\n",
       "      <td>7475.000000</td>\n",
       "      <td>1.200000</td>\n",
       "      <td>2001.000000</td>\n",
       "      <td>7545.000000</td>\n",
       "      <td>1.181000</td>\n",
       "      <td>1.150000</td>\n",
       "      <td>14.100000</td>\n",
       "      <td>3.333000</td>\n",
       "      <td>3.000000</td>\n",
       "      <td>4.000000</td>\n",
       "      <td>4.000000</td>\n",
       "      <td>4.000000</td>\n",
       "      <td>4.000000</td>\n",
       "      <td>594.000000</td>\n",
       "      <td>1.830000</td>\n",
       "    </tr>\n",
       "    <tr>\n",
       "      <th>max</th>\n",
       "      <td>10002.000000</td>\n",
       "      <td>2.990000</td>\n",
       "      <td>9999.000000</td>\n",
       "      <td>9951.000000</td>\n",
       "      <td>19.907000</td>\n",
       "      <td>10.783000</td>\n",
       "      <td>29.100000</td>\n",
       "      <td>5.000000</td>\n",
       "      <td>5.000000</td>\n",
       "      <td>5.000000</td>\n",
       "      <td>5.000000</td>\n",
       "      <td>5.000000</td>\n",
       "      <td>5.000000</td>\n",
       "      <td>7090.000000</td>\n",
       "      <td>8.194000</td>\n",
       "    </tr>\n",
       "  </tbody>\n",
       "</table>\n",
       "</div>"
      ],
      "text/plain": [
       "       physician_id  physician_efficiency  physician_graduation_year  \\\n",
       "count   7393.000000           7393.000000                6674.000000   \n",
       "mean    4998.183417              1.056228                1995.449805   \n",
       "std     2882.632252              0.355256                 170.101170   \n",
       "min        2.000000              0.100000                1954.000000   \n",
       "25%     2495.000000              0.860000                1984.000000   \n",
       "50%     5009.000000              1.010000                1993.000000   \n",
       "75%     7475.000000              1.200000                2001.000000   \n",
       "max    10002.000000              2.990000                9999.000000   \n",
       "\n",
       "       bump_feature  engineered_feature_1  engineered_feature_2  \\\n",
       "count   7393.000000           7393.000000           7393.000000   \n",
       "mean    4948.712836              1.088763              1.067009   \n",
       "std     2917.906257              0.409342              0.249731   \n",
       "min       12.000000              0.047000              0.047000   \n",
       "25%     2348.000000              0.920000              0.957000   \n",
       "50%     4943.000000              1.050000              1.054000   \n",
       "75%     7545.000000              1.181000              1.150000   \n",
       "max     9951.000000             19.907000             10.783000   \n",
       "\n",
       "       engineered_feature_3  medicare_engineered_1  medicare_engineered_2  \\\n",
       "count           7393.000000            7393.000000            7393.000000   \n",
       "mean              10.071081               2.802573               2.911944   \n",
       "std                4.844017               0.829564               0.884700   \n",
       "min                0.300000               1.000000               1.000000   \n",
       "25%                6.100000               2.250000               2.000000   \n",
       "50%               10.000000               2.750000               3.000000   \n",
       "75%               14.100000               3.333000               3.000000   \n",
       "max               29.100000               5.000000               5.000000   \n",
       "\n",
       "       medicare_engineered_3  medicare_enginerred_4  medicare_engineered_5  \\\n",
       "count            7393.000000            7393.000000            7393.000000   \n",
       "mean                2.647099               2.389287               2.421750   \n",
       "std                 1.507928               1.679374               1.607064   \n",
       "min                 0.000000               0.000000               0.000000   \n",
       "25%                 1.000000               1.000000               1.000000   \n",
       "50%                 3.000000               2.000000               2.000000   \n",
       "75%                 4.000000               4.000000               4.000000   \n",
       "max                 5.000000               5.000000               5.000000   \n",
       "\n",
       "       medicare_engineered_6  num_medicare_patients  \\\n",
       "count            7393.000000            7393.000000   \n",
       "mean                2.792371             495.109022   \n",
       "std                 1.385428             615.225229   \n",
       "min                 0.000000               0.000000   \n",
       "25%                 2.000000             150.000000   \n",
       "50%                 3.000000             317.000000   \n",
       "75%                 4.000000             594.000000   \n",
       "max                 5.000000            7090.000000   \n",
       "\n",
       "       medicare_patient_hcc_risk_score  \n",
       "count                      7393.000000  \n",
       "mean                          1.545016  \n",
       "std                           0.794146  \n",
       "min                           0.000000  \n",
       "25%                           1.037000  \n",
       "50%                           1.354000  \n",
       "75%                           1.830000  \n",
       "max                           8.194000  "
      ]
     },
     "execution_count": 7,
     "metadata": {},
     "output_type": "execute_result"
    }
   ],
   "source": [
    "# Descriptive analysis\n",
    "data.describe()"
   ]
  },
  {
   "cell_type": "markdown",
   "metadata": {},
   "source": [
    "The table above gives us some interesting information in *physician_graduation_year* and *bump_feature* column. Both of them have very large std. In particular, the maximum of graduation_year is 9999, which is impossible. We will look into these columns in the second part-outliers detection."
   ]
  },
  {
   "cell_type": "code",
   "execution_count": 8,
   "metadata": {
    "scrolled": true
   },
   "outputs": [
    {
     "data": {
      "text/plain": [
       "(array([777., 946., 891., 749., 711., 517., 459., 366., 309., 254., 217.,\n",
       "        148., 141., 112.,  89.,  68.,  64.,  56.,  55.,  39.,  33.,  24.,\n",
       "         22.,  12.,  19.,  20.,  19.,  26.,  17.,  17.,  11.,  11.,  16.,\n",
       "         10.,   5.,  12.,  10.,   8.,   9.,   8.,   7.,   6.,   9.,   4.,\n",
       "          8.,   5.,   7.,   8.,   3.,   5.,   8.,   3.,   0.,   1.,   1.,\n",
       "          2.,   4.,   1.,   3.,   2.,   3.,   3.,   1.,   2.,   2.,   2.,\n",
       "          2.,   0.,   0.,   0.,   0.,   2.,   2.,   2.,   0.,   0.,   2.,\n",
       "          1.,   1.,   0.,   1.,   0.,   0.,   1.,   0.,   0.,   0.,   0.,\n",
       "          0.,   0.,   0.,   0.,   0.,   0.,   0.,   0.,   0.,   0.,   0.,\n",
       "          2.]),\n",
       " array([   0. ,   70.9,  141.8,  212.7,  283.6,  354.5,  425.4,  496.3,\n",
       "         567.2,  638.1,  709. ,  779.9,  850.8,  921.7,  992.6, 1063.5,\n",
       "        1134.4, 1205.3, 1276.2, 1347.1, 1418. , 1488.9, 1559.8, 1630.7,\n",
       "        1701.6, 1772.5, 1843.4, 1914.3, 1985.2, 2056.1, 2127. , 2197.9,\n",
       "        2268.8, 2339.7, 2410.6, 2481.5, 2552.4, 2623.3, 2694.2, 2765.1,\n",
       "        2836. , 2906.9, 2977.8, 3048.7, 3119.6, 3190.5, 3261.4, 3332.3,\n",
       "        3403.2, 3474.1, 3545. , 3615.9, 3686.8, 3757.7, 3828.6, 3899.5,\n",
       "        3970.4, 4041.3, 4112.2, 4183.1, 4254. , 4324.9, 4395.8, 4466.7,\n",
       "        4537.6, 4608.5, 4679.4, 4750.3, 4821.2, 4892.1, 4963. , 5033.9,\n",
       "        5104.8, 5175.7, 5246.6, 5317.5, 5388.4, 5459.3, 5530.2, 5601.1,\n",
       "        5672. , 5742.9, 5813.8, 5884.7, 5955.6, 6026.5, 6097.4, 6168.3,\n",
       "        6239.2, 6310.1, 6381. , 6451.9, 6522.8, 6593.7, 6664.6, 6735.5,\n",
       "        6806.4, 6877.3, 6948.2, 7019.1, 7090. ]),\n",
       " <a list of 100 Patch objects>)"
      ]
     },
     "execution_count": 8,
     "metadata": {},
     "output_type": "execute_result"
    },
    {
     "data": {
      "image/png": "[encoded data removed]",
      "text/plain": [
       "<Figure size 720x360 with 2 Axes>"
      ]
     },
     "metadata": {},
     "output_type": "display_data"
    }
   ],
   "source": [
    "# take a look at the distribution of physiscian_efficiency and num_medicare_patients\n",
    "fig, ax = plt.subplots(1,2, figsize = (10,5), sharey = False)\n",
    "ax[0].hist(data['physician_efficiency'], bins = 100)\n",
    "ax[1].hist(data['num_medicare_patients'], bins = 100)"
   ]
  },
  {
   "cell_type": "markdown",
   "metadata": {},
   "source": [
    "The distribution looks normal."
   ]
  },
  {
   "cell_type": "markdown",
   "metadata": {},
   "source": [
    "### 2. Check missing value"
   ]
  },
  {
   "cell_type": "code",
   "execution_count": 13,
   "metadata": {
    "scrolled": true
   },
   "outputs": [
    {
     "name": "stdout",
     "output_type": "stream",
     "text": [
      "physician_graduation_year Missing value: 719; Percentage: 0.09725415933991614\n"
     ]
    }
   ],
   "source": [
    "# Check missing value\n",
    "num_row = data.shape[0]\n",
    "for i in data.columns:\n",
    "        temp = data[data[i].isnull()]\n",
    "        if temp.shape[0] > 0:\n",
    "            print(i + ' Missing value: ' + str(temp.shape[0]) + '; Percentage: ' +str(temp.shape[0] / num_row))"
   ]
  },
  {
   "cell_type": "markdown",
   "metadata": {},
   "source": [
    "Only column *physician_graduation_year* has missing values, accounting about 10% of the data. There are several ways to deal with missing value. As graduation year is a discrete value, so we can impute them with mode."
   ]
  },
  {
   "cell_type": "code",
   "execution_count": 14,
   "metadata": {
    "collapsed": true,
    "scrolled": true
   },
   "outputs": [],
   "source": [
    "# get a deep copy of data\n",
    "data_impute = deepcopy(data)\n",
    "data_impute['physician_graduation_year'].fillna(data['physician_graduation_year'].mode()[0], inplace = True)"
   ]
  },
  {
   "cell_type": "markdown",
   "metadata": {},
   "source": [
    "### 3. Check outliers"
   ]
  },
  {
   "cell_type": "code",
   "execution_count": 15,
   "metadata": {
    "scrolled": false
   },
   "outputs": [
    {
     "data": {
      "text/plain": [
       "Text(0.5, 0.98, 'boxplot for physician_graduation_year')"
      ]
     },
     "execution_count": 15,
     "metadata": {},
     "output_type": "execute_result"
    },
    {
     "data": {
      "image/png": "[encoded data removed]",
      "text/plain": [
       "<Figure size 720x360 with 2 Axes>"
      ]
     },
     "metadata": {},
     "output_type": "display_data"
    }
   ],
   "source": [
    "# Check outliers\n",
    "fig, ax = plt.subplots(1,2, figsize = (10,5))\n",
    "ax[0].boxplot(data_impute['physician_graduation_year'], showfliers = False)\n",
    "ax[1].boxplot(data_impute['physician_graduation_year'], showfliers = True)\n",
    "fig.suptitle('boxplot for physician_graduation_year')"
   ]
  },
  {
   "cell_type": "code",
   "execution_count": 16,
   "metadata": {},
   "outputs": [
    {
     "name": "stdout",
     "output_type": "stream",
     "text": [
      "2010.0\n"
     ]
    }
   ],
   "source": [
    "# Check how many outliers graduation year has\n",
    "up = np.percentile(data_impute['physician_graduation_year'], 99)\n",
    "print(up)"
   ]
  },
  {
   "cell_type": "markdown",
   "metadata": {},
   "source": [
    "99th percentile of the graduation year is 2011. So we just drop that outlier and check the boxplot again. The plot below shows that we only have one outlier in that column."
   ]
  },
  {
   "cell_type": "code",
   "execution_count": 17,
   "metadata": {
    "scrolled": true
   },
   "outputs": [
    {
     "data": {
      "text/plain": [
       "{'boxes': [<matplotlib.lines.Line2D at 0x11e539710>],\n",
       " 'caps': [<matplotlib.lines.Line2D at 0x11e539f98>,\n",
       "  <matplotlib.lines.Line2D at 0x11e544358>],\n",
       " 'fliers': [<matplotlib.lines.Line2D at 0x11e544a58>],\n",
       " 'means': [],\n",
       " 'medians': [<matplotlib.lines.Line2D at 0x11e5446d8>],\n",
       " 'whiskers': [<matplotlib.lines.Line2D at 0x11e539898>,\n",
       "  <matplotlib.lines.Line2D at 0x11e539c18>]}"
      ]
     },
     "execution_count": 17,
     "metadata": {},
     "output_type": "execute_result"
    },
    {
     "data": {
      "image/png": "[encoded data removed]",
      "text/plain": [
       "<Figure size 432x288 with 1 Axes>"
      ]
     },
     "metadata": {},
     "output_type": "display_data"
    }
   ],
   "source": [
    "data_impute = data_impute[data_impute['physician_graduation_year'] != 9999]\n",
    "plt.boxplot(data_impute[data_impute['physician_graduation_year'] != 9999]['physician_graduation_year'], showfliers = True)"
   ]
  },
  {
   "cell_type": "markdown",
   "metadata": {},
   "source": [
    "After removing the outliers, the boxplot looks good."
   ]
  },
  {
   "cell_type": "code",
   "execution_count": 18,
   "metadata": {
    "scrolled": true
   },
   "outputs": [
    {
     "data": {
      "text/plain": [
       "Text(0.5, 0.98, 'boxplot for bump_feature')"
      ]
     },
     "execution_count": 18,
     "metadata": {},
     "output_type": "execute_result"
    },
    {
     "data": {
      "image/png": "[encoded data removed]",
      "text/plain": [
       "<Figure size 720x360 with 2 Axes>"
      ]
     },
     "metadata": {},
     "output_type": "display_data"
    }
   ],
   "source": [
    "# Check outliers for bump_feature.\n",
    "fig, ax = plt.subplots(1,2, figsize = (10,5))\n",
    "ax[0].boxplot(data_impute['bump_feature'], showfliers = False)\n",
    "ax[1].boxplot(data_impute['bump_feature'], showfliers = True)\n",
    "fig.suptitle('boxplot for bump_feature')"
   ]
  },
  {
   "cell_type": "markdown",
   "metadata": {},
   "source": [
    "The boxplot for bump feature looks normal. No outliers are found. "
   ]
  },
  {
   "cell_type": "markdown",
   "metadata": {},
   "source": [
    "## Variables Selection"
   ]
  },
  {
   "cell_type": "markdown",
   "metadata": {},
   "source": [
    "There are several methods to select variables. I will try out two methods to select predictive variables: both-way stepwise regression, Lasso. Before performing the selection, I first transform the data to the format that would enable us to conduct analysis. "
   ]
  },
  {
   "cell_type": "code",
   "execution_count": 19,
   "metadata": {
    "scrolled": true
   },
   "outputs": [
    {
     "data": {
      "text/plain": [
       "physician_id                         int64\n",
       "physician_efficiency               float64\n",
       "metro_area                          object\n",
       "physician_working_specialty         object\n",
       "physician_gender                    object\n",
       "physician_credential                object\n",
       "physician_med_school                object\n",
       "physician_graduation_year          float64\n",
       "bump_feature                         int64\n",
       "engineered_feature_1               float64\n",
       "engineered_feature_2               float64\n",
       "engineered_feature_3               float64\n",
       "medicare_engineered_1              float64\n",
       "medicare_engineered_2                int64\n",
       "medicare_engineered_3                int64\n",
       "medicare_enginerred_4                int64\n",
       "medicare_engineered_5                int64\n",
       "medicare_engineered_6                int64\n",
       "num_medicare_patients                int64\n",
       "medicare_patient_hcc_risk_score    float64\n",
       "dtype: object"
      ]
     },
     "execution_count": 19,
     "metadata": {},
     "output_type": "execute_result"
    }
   ],
   "source": [
    "# check the datatype of the data\n",
    "data_impute.dtypes"
   ]
  },
  {
   "cell_type": "markdown",
   "metadata": {},
   "source": [
    "The categorical columns in our dataset are: ```metro_area, phsician_working_specialty, phsician_gender, phsician_credential, physician_med_school```. Also I drop *physician_id*, as it's just identifier, does not have actual meaning."
   ]
  },
  {
   "cell_type": "code",
   "execution_count": 20,
   "metadata": {
    "collapsed": true
   },
   "outputs": [],
   "source": [
    "data_dummy = data_impute.drop('physician_id', axis = 1)\n",
    "data_dummy = pd.get_dummies(data_dummy)"
   ]
  },
  {
   "cell_type": "code",
   "execution_count": 21,
   "metadata": {
    "scrolled": true
   },
   "outputs": [
    {
     "data": {
      "text/plain": [
       "(7390, 189)"
      ]
     },
     "execution_count": 21,
     "metadata": {},
     "output_type": "execute_result"
    }
   ],
   "source": [
    "data_dummy.shape"
   ]
  },
  {
   "cell_type": "markdown",
   "metadata": {},
   "source": [
    "After convert the categorical data to dummy data, we get 189 columns. Let's start feature selection."
   ]
  },
  {
   "cell_type": "code",
   "execution_count": 22,
   "metadata": {
    "collapsed": true
   },
   "outputs": [],
   "source": [
    "from sklearn.linear_model import Lasso\n",
    "from sklearn.feature_selection import SelectFromModel\n",
    "y = data_dummy['physician_efficiency']\n",
    "x_lst = list(data_dummy.columns)\n",
    "x_lst.remove('physician_efficiency')\n",
    "X = data_dummy[x_lst]\n"
   ]
  },
  {
   "cell_type": "code",
   "execution_count": 23,
   "metadata": {},
   "outputs": [
    {
     "name": "stderr",
     "output_type": "stream",
     "text": [
      "/Users/zhenglu/anaconda/lib/python3.6/site-packages/sklearn/utils/__init__.py:93: FutureWarning: Conversion of the second argument of issubdtype from `int` to `np.signedinteger` is deprecated. In future, it will be treated as `np.int64 == np.dtype(int).type`.\n",
      "  if np.issubdtype(mask.dtype, np.int):\n"
     ]
    },
    {
     "name": "stdout",
     "output_type": "stream",
     "text": [
      "(7390, 16)\n",
      "(7390, 10)\n",
      "(7390, 7)\n",
      "(7390, 6)\n",
      "(7390, 6)\n",
      "(7390, 5)\n",
      "(7390, 4)\n",
      "(7390, 3)\n",
      "(7390, 3)\n",
      "(7390, 2)\n"
     ]
    }
   ],
   "source": [
    "# try different alpha and see how many features the model gives\n",
    "for i in np.linspace(0.001,0.01, 10):\n",
    "    model_lasso = Lasso(alpha= i).fit(X, y)\n",
    "    model = SelectFromModel(model_lasso, prefit = True)\n",
    "    X_new = model.transform(X)\n",
    "    print(X_new.shape)"
   ]
  },
  {
   "cell_type": "code",
   "execution_count": 24,
   "metadata": {
    "scrolled": false
   },
   "outputs": [
    {
     "name": "stdout",
     "output_type": "stream",
     "text": [
      "Feature Selected by lasso: \n",
      "['physician_graduation_year' 'bump_feature' 'engineered_feature_1'\n",
      " 'engineered_feature_3' 'medicare_engineered_3' 'medicare_enginerred_4'\n",
      " 'medicare_engineered_5' 'medicare_engineered_6'\n",
      " 'medicare_patient_hcc_risk_score'\n",
      " 'physician_working_specialty_Cardiovascular - Non-interventional'\n",
      " 'physician_working_specialty_Emergency Medicine'\n",
      " 'physician_working_specialty_OB/GYN'\n",
      " 'physician_working_specialty_Ophthal - Cataract'\n",
      " 'physician_working_specialty_Ophthalmology'\n",
      " 'physician_working_specialty_Urology' 'physician_gender_M']\n",
      "(7390, 2)\n"
     ]
    }
   ],
   "source": [
    "model_lasso = Lasso(alpha= 0.001).fit(X, y)\n",
    "model = SelectFromModel(model_lasso, prefit = True)\n",
    "print('Feature Selected by lasso: ')\n",
    "feature_selected = np.array(X.columns)[abs(model_lasso.coef_) > 0.00002]\n",
    "print(feature_selected)\n",
    "print(X_new.shape)"
   ]
  },
  {
   "cell_type": "markdown",
   "metadata": {},
   "source": [
    "Lasso regression takes out most of the dummy variables. For engineered features, it drops engineered feature_2, which is consistant with our observation that engineered feature 1 and 2 have high correlation in Question 4. Also it takes out medicare_engineered feature 1,2. Let's do a sanity check by ploting the correlation between those engineered features."
   ]
  },
  {
   "cell_type": "code",
   "execution_count": 25,
   "metadata": {
    "scrolled": true
   },
   "outputs": [
    {
     "data": {
      "image/png": "[encoded data removed]",
      "text/plain": [
       "<Figure size 720x720 with 2 Axes>"
      ]
     },
     "metadata": {},
     "output_type": "display_data"
    }
   ],
   "source": [
    "engineered_lst = [i for i in data.columns if 'engineered' in i]\n",
    "corrmat = data[engineered_lst].corr()\n",
    "top_corr_features = corrmat.index\n",
    "plt.figure(figsize=(10,10))\n",
    "#plot heat map\n",
    "g=sns.heatmap(data[top_corr_features].corr(),annot=True,cmap=\"RdYlGn\")"
   ]
  },
  {
   "cell_type": "markdown",
   "metadata": {},
   "source": [
    "The heatmap shows that:\n",
    "1. engineered feature 1 is highly correlated with engineered feature 2\n",
    "2. medicare_egineered 1 is highly correlated with medicare_egineered 2\n",
    "3. Both medicare feature 1 and 2 have some correlation with the rest of medicare features\n",
    "\n",
    "That Lasso regression drops medicare feature 1 and 2 may be because the two feature can be represented by the linear combination of the rest of medicare features due to high correlation among them.\n",
    "\n",
    "In the following analysis, I will use the 15 features."
   ]
  },
  {
   "cell_type": "markdown",
   "metadata": {},
   "source": [
    "* Split the dataset"
   ]
  },
  {
   "cell_type": "code",
   "execution_count": 27,
   "metadata": {},
   "outputs": [
    {
     "name": "stderr",
     "output_type": "stream",
     "text": [
      "/Users/zhenglu/anaconda/lib/python3.6/site-packages/sklearn/utils/__init__.py:93: FutureWarning: Conversion of the second argument of issubdtype from `int` to `np.signedinteger` is deprecated. In future, it will be treated as `np.int64 == np.dtype(int).type`.\n",
      "  if np.issubdtype(mask.dtype, np.int):\n"
     ]
    }
   ],
   "source": [
    "from sklearn.model_selection import train_test_split\n",
    "X_new = model.transform(X)\n",
    "x_train, x_test, y_train, y_test = train_test_split(X_new, y, test_size=0.25, \n",
    "                                                    random_state=42)"
   ]
  },
  {
   "cell_type": "markdown",
   "metadata": {},
   "source": [
    "## Model Building"
   ]
  },
  {
   "cell_type": "markdown",
   "metadata": {},
   "source": [
    "### 1. Simple linear model"
   ]
  },
  {
   "cell_type": "code",
   "execution_count": 30,
   "metadata": {
    "scrolled": false
   },
   "outputs": [
    {
     "name": "stdout",
     "output_type": "stream",
     "text": [
      "===========Mean Squared error of Linear Regression=========\n",
      "in-sample:  0.023299830491719964\n",
      "out-sample:  0.023045781718318944\n"
     ]
    }
   ],
   "source": [
    "# Build a simple linear regression\n",
    "from sklearn.metrics import mean_squared_error\n",
    "from sklearn.linear_model import LinearRegression\n",
    "\n",
    "reg = LinearRegression().fit(x_train, y_train)\n",
    "pre_train = reg.predict(x_train)\n",
    "pre_test = reg.predict(x_test)\n",
    "in_sample_accuracy = mean_squared_error(y_train, pre_train)\n",
    "out_sample_accuracy = mean_squared_error(y_test, pre_test )\n",
    "print('===========Mean Squared error of Linear Regression=========')\n",
    "print('in-sample: ', in_sample_accuracy)\n",
    "print('out-sample: ', out_sample_accuracy)"
   ]
  },
  {
   "cell_type": "markdown",
   "metadata": {},
   "source": [
    "I choose mean squared error as the metric to evaluate the model, as it's a regression problem with continuous response variable. If it is a classification problem, I will use accuracy, AUC, AOC to evaluate the model. \n",
    "\n",
    "What's more, I noticed that in my previous attempt, the model performs very bad on testset. That's because I did not remove outliers from the data set, and it turn out that outlire was in the testset, resulting in a much larger error than the trainset. After removing the outlier, errors on the two dataset are small and close, indicating that the linear model has a good performance. It also shows that Linear regression is sensitive to outlier.\n",
    "\n",
    "To get a better estimation of the model quality, we could conduct cross-validation to mitigate sampling error."
   ]
  },
  {
   "cell_type": "markdown",
   "metadata": {},
   "source": [
    "### 2. Cross validation"
   ]
  },
  {
   "cell_type": "code",
   "execution_count": 31,
   "metadata": {},
   "outputs": [
    {
     "data": {
      "text/plain": [
       "-0.02350878294537543"
      ]
     },
     "execution_count": 31,
     "metadata": {},
     "output_type": "execute_result"
    }
   ],
   "source": [
    "from sklearn.model_selection import cross_validate\n",
    "clf = LinearRegression()\n",
    "cv = cross_validate(clf, x_train, y_train, scoring='neg_mean_squared_error', cv=10)\n",
    "cv['test_score'].mean()"
   ]
  },
  {
   "cell_type": "markdown",
   "metadata": {},
   "source": [
    "The average mean squared error of 10-fold cv is close to the one we get above."
   ]
  },
  {
   "cell_type": "markdown",
   "metadata": {},
   "source": [
    "### 3. More models "
   ]
  },
  {
   "cell_type": "code",
   "execution_count": 32,
   "metadata": {
    "scrolled": true
   },
   "outputs": [
    {
     "name": "stdout",
     "output_type": "stream",
     "text": [
      "===========Mean Squared error of Random Forest=========\n",
      "in-sample:  1.5351858534825114e-06\n",
      "out-sample:  5.079004329004374e-06\n"
     ]
    }
   ],
   "source": [
    "from sklearn.ensemble import RandomForestRegressor\n",
    "\n",
    "random_forest = RandomForestRegressor().fit(x_train, y_train)\n",
    "\n",
    "pre_train = random_forest.predict(x_train)\n",
    "pre_test = random_forest.predict(x_test)\n",
    "in_sample_accuracy = mean_squared_error(y_train,pre_train)\n",
    "out_sample_accuracy = mean_squared_error(y_test, pre_test)\n",
    "print('===========Mean Squared error of Random Forest=========')\n",
    "print('in-sample: ', in_sample_accuracy)\n",
    "print('out-sample: ', out_sample_accuracy)"
   ]
  },
  {
   "cell_type": "markdown",
   "metadata": {},
   "source": [
    "The result show that random forest regressor model performs better on both train and test dataset than linear regression. And I pick mean squared error as my metric for the same reason that the response is continuous, and also, it is more convinient to compare the performance of different models with the same metric.  "
   ]
  },
  {
   "cell_type": "markdown",
   "metadata": {},
   "source": [
    "Also, 10-fold cross validation is conducted to get a better estimation of model quality."
   ]
  },
  {
   "cell_type": "code",
   "execution_count": 33,
   "metadata": {},
   "outputs": [
    {
     "data": {
      "text/plain": [
       "-9.588631736429543e-06"
      ]
     },
     "execution_count": 33,
     "metadata": {},
     "output_type": "execute_result"
    }
   ],
   "source": [
    "model_rf = RandomForestRegressor()\n",
    "cv = cross_validate(model_rf, x_train, y_train, scoring='neg_mean_squared_error', cv=10)\n",
    "cv['test_score'].mean()"
   ]
  },
  {
   "cell_type": "markdown",
   "metadata": {},
   "source": [
    "* show feature importance using random forest"
   ]
  },
  {
   "cell_type": "code",
   "execution_count": 34,
   "metadata": {
    "scrolled": false
   },
   "outputs": [
    {
     "data": {
      "image/png": "[encoded data removed]",
      "text/plain": [
       "<Figure size 432x288 with 1 Axes>"
      ]
     },
     "metadata": {},
     "output_type": "display_data"
    }
   ],
   "source": [
    "# Output the importance of features.\n",
    "feat_importances = pd.Series(random_forest.feature_importances_, index = feature_selected)\n",
    "feat_importances.nlargest(10).plot(kind='barh')\n",
    "plt.xlim(0,0.2)\n",
    "plt.show()"
   ]
  },
  {
   "cell_type": "markdown",
   "metadata": {},
   "source": [
    "I output the top 10 important feature. The plot suggests that *bump feature* is the most predictive feature, followed by a bunch of egineered features. And all the numerical features perform better than binary features. "
   ]
  },
  {
   "cell_type": "markdown",
   "metadata": {},
   "source": [
    "### 4. Model comparisom"
   ]
  },
  {
   "cell_type": "markdown",
   "metadata": {},
   "source": [
    "\n",
    "|   | Train  | 10-fold cv | Test |  \n",
    "|---|---|---|---|  \n",
    "| Linear Regression  | 0.02319  | 0.02347   | 0.02362  |  \n",
    "| Random Forest Regressor  | $1.49801e^{-6}$  | $6.99294e^{-6}$  | $6.54840e^{-6}$  |  \n",
    "\n",
    "The table above summarizes the model performance on train/test dataset as well as cross-validation results. It indicates that cross validation does help us understand the preformance of the model. For random forest regressor, we can see that the model performance on train data is quite good, but it does not perform well on test data. Without cross validation, we may interprete it as overfitting, but it turns out that the difference is just due to the variation brought by sampling. By conducting cross validation, we are able to use every data point to train and test the model."
   ]
  },
  {
   "cell_type": "markdown",
   "metadata": {},
   "source": [
    "I will choose random forest regressor based on the MSE. Under the circumstances where a model is developed for internal use or where you do not need to explain the mechanism behind the model to clients without relevant background), I would recommend the model with better performance regardless of its interpretability. In our case, the random forest regressor outperforms linear regression significantly, so rf is a better option here."
   ]
  }
 ],
 "metadata": {
  "kernelspec": {
   "display_name": "Python 3",
   "language": "python",
   "name": "python3"
  },
  "language_info": {
   "codemirror_mode": {
    "name": "ipython",
    "version": 3
   },
   "file_extension": ".py",
   "mimetype": "text/x-python",
   "name": "python",
   "nbconvert_exporter": "python",
   "pygments_lexer": "ipython3",
   "version": "3.7.3"
  }
 },
 "nbformat": 4,
 "nbformat_minor": 2
}
