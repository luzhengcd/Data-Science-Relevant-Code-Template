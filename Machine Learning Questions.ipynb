{
 "cells": [
  {
   "cell_type": "markdown",
   "metadata": {},
   "source": [
    "# A list of machine learning question and my answers"
   ]
  },
  {
   "cell_type": "markdown",
   "metadata": {},
   "source": [
    "### 1. What is cross-validation? How to do it right\n",
    "\n",
    "Cross validation is a validation techniques for assessing the performance of a model. \n",
    "It is extremly useful when you want to see if the model generalize to an independent dataset.\n",
    "\n",
    "This is how it works. \n",
    "\n",
    "This way, all the data is used to train the model, which significantly reduce sampling bias. \n",
    "\n",
    "You can also use cross-validation when choosing parameters for the model. \n",
    "\n",
    "One more thing I'd like to mention about cross validation is, none of the cross validation model will be used to make your prediction. Instead, you will need to retrain a new model with all training data. That would be your final model with the best set of parameters you pick.\n",
    "\n"
   ]
  },
  {
   "cell_type": "markdown",
   "metadata": {},
   "source": [
    "2. Is it better to design robust or accurate algorithms?"
   ]
  },
  {
   "cell_type": "markdown",
   "metadata": {},
   "source": [
    "### 3. How to define/select metirc?\n",
    "\n",
    "There are multiple things we may want to consider when we decide on the evaluation metrics. \n",
    "* regression VS. classification? \n",
    "* Regression: The most common one is RMSE(root mean square error) ,MAE(mean absolute error)\n",
    "* Classification: Accuracy, Precision, recall, AUC.\n",
    "    For multi-class classfication model, misclassfication rate, cross-entropy\n",
    "\n",
    "Follow-up question: How to determine the threshold for a probability output model like logistic regression?  \n",
    "A very common approach is that you look at the ROC curve of the model. ROC curve basically tells you the false positive rate and true positive rate under different threshold. \n",
    "Then based on the cost of a false positive and the profit of a true positive, and you can do a benefit-cost-analysis\n",
    "\n",
    "A very good example of determing the threshold is cancer detection and \n",
    "Missle hit."
   ]
  },
  {
   "cell_type": "markdown",
   "metadata": {},
   "source": [
    "### 4. Explain what regularization is and why it is useful. What are the benefits and drawbacks of specific methods, such as ridge regression and lasso?  \n",
    "\n",
    "Regularization is a technique to prevent overfitting and therefore improve the generalization of a model. \n",
    "\n",
    "Take an example: basically, you introduce a regularization term to penalize the complexity of the model. \n",
    "\n",
    "If the model gets too complex, it tends to capture any tiny pattern in the training dataset, which may not show up in the test data, and result in overfitting. \n",
    "\n",
    "Take regression for an example. The complexity is the number of parameter. \n",
    "\n",
    "You can either do a L2 regularization, which is also called ridge regression to shrink the prameter, or L1 regurlarization, lasso reguration to encourage spasity of the model. "
   ]
  },
  {
   "cell_type": "markdown",
   "metadata": {},
   "source": [
    "### 5. Explain what a local optimum is and why it is important in a specific context, such as K-means clustering. What are specific ways of determining if you have a local optimum problem? What can be done to avoid local optima?\n",
    "\n",
    "Let \n",
    "\n",
    "All most all the model has loss function. The process of training a model is enssentially to update your paramter to reach the minimum loss. In the ideal case, the shape of the loss function go \n",
    "\n",
    "In the real life, things get complex. in most of cases, you'll have a lot of up and down, which will give you some thing like a hole. \n",
    "\n",
    "Which hole you would fall depends on where you start the journey. This is why in neural networks, initialization technique is a very popular techniques.\n",
    "\n",
    "Solution:  \n",
    "1. try different initialization techniques\n",
    "2. Set a larger learning rate when running gradient descent. "
   ]
  },
  {
   "cell_type": "markdown",
   "metadata": {},
   "source": [
    "### 9. Explain what resampling methods are and why they are useful\n",
    "\n",
    "Resampling is a way to generate more data by randomly sample from your existing data. \n",
    "\n",
    "The most common use-cases of resampling are:\n",
    "    - cross-validation: sampling without replacement\n",
    "    - bootstrap: sampling with replacement: \n",
    "        - Random forest: randomly sample a subset of the data to fit a tree/on the feature level, you randomly select a subset of feature for the tree to split on  \n",
    "        - A/B testing, where you could use bootstrap to estimate the variance of a metric."
   ]
  },
  {
   "cell_type": "markdown",
   "metadata": {},
   "source": [
    "### 10. What is principal component analysis? Explain the sort of problems you would use PCA for. Also explain its limitations as a method\n",
    "\n",
    "\n",
    "PCA is dimension reduction technique, which utilize orthogonal transformation to convert a set of correlated variables into a set of linearly uncorrelated variables called principal components.  \n",
    "\n",
    "The intuition is the variable with larger variance contain more information. \n",
    "\n",
    "When to use:\n",
    "    If you have many features but a small data set, that you believe some of your features are correlated with each other. \n",
    "    If you want to visualize high dimention data, \n",
    "\n",
    "Cons of PCA:\n",
    "    It's lack of interpretability, \n",
    "    "
   ]
  },
  {
   "cell_type": "markdown",
   "metadata": {},
   "source": [
    "### 11. Explain what a false positive and a false negative are. Why is it important these from each other? Provide examples when false positives are more important than false negatives, false negatives are more important than false positives and when these two types of errors are equally important  \n",
    "\n",
    "False positive: the model predict the presence of a condition but it does not happen in reality.\n",
    "False negative: the model predict that something shouldn't happen, but it dose happen.\n",
    "\n",
    "A false positve: hiring process\n",
    "A false negative: cancer detection. \n"
   ]
  },
  {
   "cell_type": "markdown",
   "metadata": {},
   "source": [
    "### 12. What is the difference between supervised learning and unsupervised learning? Give concrete examples   \n",
    "\n",
    "label data: \n",
    "unlabel data\n"
   ]
  },
  {
   "cell_type": "markdown",
   "metadata": {},
   "source": [
    "### 15. When would you use random forests Vs SVM and why?\n",
    "\n",
    "* SVM takes longer to train. Random forest support training in parallel\n",
    "* Random forest is more friendly to multi-class classification problem\n",
    "* If you want to get the feature importance, you may want to use random forest."
   ]
  },
  {
   "cell_type": "markdown",
   "metadata": {},
   "source": [
    "### 17. How do you know if one algorithm is better than other?  \n",
    "\n",
    "Judge an algorithm from different perspective: \n",
    "\n",
    "* The performance of the algorithm and wether it generalize well on other datasets\n",
    "* It's interpretability: \n",
    "* The efficiency of the algorithm: \n"
   ]
  },
  {
   "cell_type": "markdown",
   "metadata": {},
   "source": [
    "### 20. What is better: good data or good models? And how do you define “good”? Is there a universal good model? Are there any models that are definitely not so good?\n",
    "\n",
    "\n",
    "Good data is definetely better than good models. \n",
    "\n",
    "How do you define good data? \n",
    "    - If the data itself is time sensitive. Wether prediction  \n",
    "    - If the data follow a format, does it have a lot missing value or outliers. Those will bring more uncertainty to your model \n",
    "    - Does your data related to your goal. Take the \n",
    "\n",
    "1. Garbage in Garbage out. \n",
    "\n",
    "    - If you have a \n",
    "2. Each model has its own pros and cons\n",
    "    Random forest VS. Linear regression\n",
    "\n",
    "Is there a universal good model?\n",
    "    "
   ]
  },
  {
   "cell_type": "markdown",
   "metadata": {},
   "source": [
    "## 21. Why is naive Bayes so bad? How would you improve a spam detection algorithm that uses naive Bayes?   \n",
    "\n",
    "1. The assumption of this model is too strict. \n",
    "2. it assume that all features have to be independent of each other, which might not be the case in most of real-life problem\n",
    "\n",
    "PCA to decorrelate the feature. \n"
   ]
  },
  {
   "cell_type": "markdown",
   "metadata": {},
   "source": [
    "### 22. What are the drawbacks of linear model? Are you familiar with alternatives (Lasso, ridge regression)?\n",
    "\n",
    "Simple, assume the features and response have a linear relationship  \n"
   ]
  },
  {
   "cell_type": "markdown",
   "metadata": {},
   "source": [
    "### 26. What do you think about the idea of injecting noise in your data set to test the sensitivity of your models?\n",
    "\n",
    "It's very good method to increase the robustness of the model. \n",
    "\n",
    "Adverserial examples. \n",
    "with small, random noise that cause a machine learning model to make a false prediction. \n"
   ]
  },
  {
   "cell_type": "markdown",
   "metadata": {},
   "source": [
    "### 27. What do you think of step-wise regression? What kind of step-wise techniques are you familiar with?   \n",
    "\n",
    "Step-wise regression is a way of fitting a linear regression model with automatically selected features. \n",
    "\n",
    "Forward selection: No variables in the model, and keep adding variable based on some evaluation metrics such as R square, AIC. \n",
    "Backward selection: \n"
   ]
  },
  {
   "cell_type": "markdown",
   "metadata": {},
   "source": [
    "### 28. How would you define and measure the predictive power of a metric?\n",
    "\n"
   ]
  },
  {
   "cell_type": "markdown",
   "metadata": {},
   "source": [
    "### 32. How to check if the regression model fits the data well?\n",
    "\n",
    "* Looked the loss   \n",
    "* Looked the adjust the R square. \n",
    "* Look at the hypothesis testing results for F-test and T-test\n"
   ]
  },
  {
   "cell_type": "markdown",
   "metadata": {},
   "source": [
    "### 34. What impurity measures do you know?\n",
    "\n",
    "Gini index:\n",
    "Information gain: "
   ]
  },
  {
   "cell_type": "markdown",
   "metadata": {},
   "source": [
    "## Out of back error in Random forest"
   ]
  },
  {
   "cell_type": "code",
   "execution_count": null,
   "metadata": {},
   "outputs": [],
   "source": []
  }
 ],
 "metadata": {
  "kernelspec": {
   "display_name": "Python 3",
   "language": "python",
   "name": "python3"
  },
  "language_info": {
   "codemirror_mode": {
    "name": "ipython",
    "version": 3
   },
   "file_extension": ".py",
   "mimetype": "text/x-python",
   "name": "python",
   "nbconvert_exporter": "python",
   "pygments_lexer": "ipython3",
   "version": "3.7.3"
  }
 },
 "nbformat": 4,
 "nbformat_minor": 2
}
